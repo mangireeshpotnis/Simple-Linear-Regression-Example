{
  "nbformat": 4,
  "nbformat_minor": 0,
  "metadata": {
    "colab": {
      "name": "1000_sales_data.ipynb",
      "provenance": [],
      "collapsed_sections": []
    },
    "kernelspec": {
      "name": "python3",
      "display_name": "Python 3"
    }
  },
  "cells": [
    {
      "cell_type": "code",
      "metadata": {
        "id": "4AlY5XW9HwKo",
        "colab_type": "code",
        "colab": {}
      },
      "source": [
        "import numpy as np\n",
        "import pandas as pd\n",
        "import matplotlib.pyplot as plt\n",
        "import seaborn as sns \n",
        "import scipy.stats\n",
        "from sklearn import preprocessing"
      ],
      "execution_count": 0,
      "outputs": []
    },
    {
      "cell_type": "code",
      "metadata": {
        "id": "IkTvFfiwIUnJ",
        "colab_type": "code",
        "outputId": "792fdb57-48c0-419c-bbd3-eb9e8c7fbab0",
        "colab": {
          "base_uri": "https://localhost:8080/",
          "height": 450
        }
      },
      "source": [
        "sales = pd.read_csv('100000 Sales Records.csv')\n",
        "sales.head()"
      ],
      "execution_count": 0,
      "outputs": [
        {
          "output_type": "execute_result",
          "data": {
            "text/html": [
              "<div>\n",
              "<style scoped>\n",
              "    .dataframe tbody tr th:only-of-type {\n",
              "        vertical-align: middle;\n",
              "    }\n",
              "\n",
              "    .dataframe tbody tr th {\n",
              "        vertical-align: top;\n",
              "    }\n",
              "\n",
              "    .dataframe thead th {\n",
              "        text-align: right;\n",
              "    }\n",
              "</style>\n",
              "<table border=\"1\" class=\"dataframe\">\n",
              "  <thead>\n",
              "    <tr style=\"text-align: right;\">\n",
              "      <th></th>\n",
              "      <th>Region</th>\n",
              "      <th>Country</th>\n",
              "      <th>Item Type</th>\n",
              "      <th>Sales Channel</th>\n",
              "      <th>Order Priority</th>\n",
              "      <th>Order Date</th>\n",
              "      <th>Order ID</th>\n",
              "      <th>Ship Date</th>\n",
              "      <th>Units Sold</th>\n",
              "      <th>Unit Price</th>\n",
              "      <th>Unit Cost</th>\n",
              "      <th>Total Revenue</th>\n",
              "      <th>Total Cost</th>\n",
              "      <th>Total Profit</th>\n",
              "    </tr>\n",
              "  </thead>\n",
              "  <tbody>\n",
              "    <tr>\n",
              "      <th>0</th>\n",
              "      <td>Middle East and North Africa</td>\n",
              "      <td>Azerbaijan</td>\n",
              "      <td>Snacks</td>\n",
              "      <td>Online</td>\n",
              "      <td>C</td>\n",
              "      <td>10/8/2014</td>\n",
              "      <td>535113847</td>\n",
              "      <td>10/23/2014</td>\n",
              "      <td>934</td>\n",
              "      <td>152.58</td>\n",
              "      <td>97.44</td>\n",
              "      <td>142509.72</td>\n",
              "      <td>91008.96</td>\n",
              "      <td>51500.76</td>\n",
              "    </tr>\n",
              "    <tr>\n",
              "      <th>1</th>\n",
              "      <td>Central America and the Caribbean</td>\n",
              "      <td>Panama</td>\n",
              "      <td>Cosmetics</td>\n",
              "      <td>Offline</td>\n",
              "      <td>L</td>\n",
              "      <td>2/22/2015</td>\n",
              "      <td>874708545</td>\n",
              "      <td>2/27/2015</td>\n",
              "      <td>4551</td>\n",
              "      <td>437.20</td>\n",
              "      <td>263.33</td>\n",
              "      <td>1989697.20</td>\n",
              "      <td>1198414.83</td>\n",
              "      <td>791282.37</td>\n",
              "    </tr>\n",
              "    <tr>\n",
              "      <th>2</th>\n",
              "      <td>Sub-Saharan Africa</td>\n",
              "      <td>Sao Tome and Principe</td>\n",
              "      <td>Fruits</td>\n",
              "      <td>Offline</td>\n",
              "      <td>M</td>\n",
              "      <td>12/9/2015</td>\n",
              "      <td>854349935</td>\n",
              "      <td>1/18/2016</td>\n",
              "      <td>9986</td>\n",
              "      <td>9.33</td>\n",
              "      <td>6.92</td>\n",
              "      <td>93169.38</td>\n",
              "      <td>69103.12</td>\n",
              "      <td>24066.26</td>\n",
              "    </tr>\n",
              "    <tr>\n",
              "      <th>3</th>\n",
              "      <td>Sub-Saharan Africa</td>\n",
              "      <td>Sao Tome and Principe</td>\n",
              "      <td>Personal Care</td>\n",
              "      <td>Online</td>\n",
              "      <td>M</td>\n",
              "      <td>9/17/2014</td>\n",
              "      <td>892836844</td>\n",
              "      <td>10/12/2014</td>\n",
              "      <td>9118</td>\n",
              "      <td>81.73</td>\n",
              "      <td>56.67</td>\n",
              "      <td>745214.14</td>\n",
              "      <td>516717.06</td>\n",
              "      <td>228497.08</td>\n",
              "    </tr>\n",
              "    <tr>\n",
              "      <th>4</th>\n",
              "      <td>Central America and the Caribbean</td>\n",
              "      <td>Belize</td>\n",
              "      <td>Household</td>\n",
              "      <td>Offline</td>\n",
              "      <td>H</td>\n",
              "      <td>2/4/2010</td>\n",
              "      <td>129280602</td>\n",
              "      <td>3/5/2010</td>\n",
              "      <td>5858</td>\n",
              "      <td>668.27</td>\n",
              "      <td>502.54</td>\n",
              "      <td>3914725.66</td>\n",
              "      <td>2943879.32</td>\n",
              "      <td>970846.34</td>\n",
              "    </tr>\n",
              "  </tbody>\n",
              "</table>\n",
              "</div>"
            ],
            "text/plain": [
              "                              Region  ... Total Profit\n",
              "0       Middle East and North Africa  ...     51500.76\n",
              "1  Central America and the Caribbean  ...    791282.37\n",
              "2                 Sub-Saharan Africa  ...     24066.26\n",
              "3                 Sub-Saharan Africa  ...    228497.08\n",
              "4  Central America and the Caribbean  ...    970846.34\n",
              "\n",
              "[5 rows x 14 columns]"
            ]
          },
          "metadata": {
            "tags": []
          },
          "execution_count": 6
        }
      ]
    },
    {
      "cell_type": "code",
      "metadata": {
        "id": "wEGzCF-pV67h",
        "colab_type": "code",
        "outputId": "b19db7d3-77c3-466c-a5ec-83f0589e4adb",
        "colab": {
          "base_uri": "https://localhost:8080/",
          "height": 34
        }
      },
      "source": [
        "sales.columns\n",
        "sales.shape\n"
      ],
      "execution_count": 0,
      "outputs": [
        {
          "output_type": "execute_result",
          "data": {
            "text/plain": [
              "(100000, 14)"
            ]
          },
          "metadata": {
            "tags": []
          },
          "execution_count": 41
        }
      ]
    },
    {
      "cell_type": "code",
      "metadata": {
        "id": "LLJzL34iWCzL",
        "colab_type": "code",
        "outputId": "09c39503-4e17-427b-f463-1e636be90c33",
        "colab": {
          "base_uri": "https://localhost:8080/",
          "height": 281
        }
      },
      "source": [
        "sales.dtypes"
      ],
      "execution_count": 0,
      "outputs": [
        {
          "output_type": "execute_result",
          "data": {
            "text/plain": [
              "Region             object\n",
              "Country            object\n",
              "Item Type          object\n",
              "Sales Channel      object\n",
              "Order Priority     object\n",
              "Order Date         object\n",
              "Order ID            int64\n",
              "Ship Date          object\n",
              "Units Sold          int64\n",
              "Unit Price        float64\n",
              "Unit Cost         float64\n",
              "Total Revenue     float64\n",
              "Total Cost        float64\n",
              "Total Profit      float64\n",
              "dtype: object"
            ]
          },
          "metadata": {
            "tags": []
          },
          "execution_count": 18
        }
      ]
    },
    {
      "cell_type": "code",
      "metadata": {
        "id": "cEWTBIxwRzLH",
        "colab_type": "code",
        "outputId": "c98e321b-b94d-41c0-98a4-b897b74c0e8b",
        "colab": {
          "base_uri": "https://localhost:8080/",
          "height": 349
        }
      },
      "source": [
        "sns.heatmap(sales.isnull(),yticklabels = False, cbar = False , cmap ='RdYlGn')\n",
        "# The dataset isn't missing any values"
      ],
      "execution_count": 0,
      "outputs": [
        {
          "output_type": "execute_result",
          "data": {
            "text/plain": [
              "<matplotlib.axes._subplots.AxesSubplot at 0x7f9145bef6a0>"
            ]
          },
          "metadata": {
            "tags": []
          },
          "execution_count": 16
        },
        {
          "output_type": "display_data",
          "data": {
            "image/png": "[encoded data removed]",
            "text/plain": [
              "<Figure size 432x288 with 1 Axes>"
            ]
          },
          "metadata": {
            "tags": []
          }
        }
      ]
    },
    {
      "cell_type": "code",
      "metadata": {
        "id": "TVyuXrQNVO4Z",
        "colab_type": "code",
        "outputId": "89e55622-4725-4c69-f923-5afb313be683",
        "colab": {
          "base_uri": "https://localhost:8080/",
          "height": 87
        }
      },
      "source": [
        "pd.unique(sales['Region'].values.ravel())"
      ],
      "execution_count": 0,
      "outputs": [
        {
          "output_type": "execute_result",
          "data": {
            "text/plain": [
              "array(['Middle East and North Africa',\n",
              "       'Central America and the Caribbean', 'Sub-Saharan Africa',\n",
              "       'Europe', 'Asia', 'Australia and Oceania', 'North America'],\n",
              "      dtype=object)"
            ]
          },
          "metadata": {
            "tags": []
          },
          "execution_count": 23
        }
      ]
    },
    {
      "cell_type": "code",
      "metadata": {
        "id": "krTUXrNOWaoM",
        "colab_type": "code",
        "outputId": "70afb604-2b4d-4407-e276-31421e17bbee",
        "colab": {
          "base_uri": "https://localhost:8080/",
          "height": 721
        }
      },
      "source": [
        "pd.unique(sales['Country'].values.ravel())"
      ],
      "execution_count": 0,
      "outputs": [
        {
          "output_type": "execute_result",
          "data": {
            "text/plain": [
              "array(['Azerbaijan', 'Panama', 'Sao Tome and Principe', 'Belize',\n",
              "       'Denmark', 'Germany', 'Turkey', 'United Kingdom', 'Kazakhstan',\n",
              "       'Haiti', 'Italy', 'Malta', 'Jordan', 'Cambodia',\n",
              "       'Saint Kitts and Nevis ', 'Cameroon', 'Bahrain', 'Solomon Islands',\n",
              "       'Monaco', 'Comoros', 'Iceland', 'Zambia', 'Egypt', 'Togo',\n",
              "       'Saudi Arabia', 'Morocco', 'Tunisia ', 'Angola', 'Vietnam',\n",
              "       'Belarus', 'Myanmar', 'Lithuania', 'Switzerland',\n",
              "       'Antigua and Barbuda ', 'Mongolia', 'Greenland', 'Eritrea',\n",
              "       'Saint Vincent and the Grenadines', 'Portugal', 'Somalia',\n",
              "       'Israel', 'Dominica', 'Luxembourg', 'Singapore', 'Cyprus',\n",
              "       'Botswana', 'Malawi', 'Kyrgyzstan', 'Macedonia', 'Rwanda',\n",
              "       'Cape Verde', 'Pakistan', 'Libya', 'Bangladesh', 'Benin',\n",
              "       'Burundi', 'China', 'Albania', 'Bulgaria',\n",
              "       'Central African Republic', 'Ukraine', 'Uganda', 'Ghana',\n",
              "       'Namibia', 'Republic of the Congo', 'Netherlands', 'Australia',\n",
              "       'Montenegro', 'Iraq', \"Cote d'Ivoire\", 'Mexico', 'Slovakia',\n",
              "       'Afghanistan', 'Indonesia', 'Thailand', 'Mali', 'Lebanon',\n",
              "       'South Korea', 'United Arab Emirates', 'Georgia', 'Guinea-Bissau',\n",
              "       'Saint Lucia', 'Lesotho', 'Mauritius ', 'Sudan', 'Japan',\n",
              "       'Estonia', 'Laos', 'Belgium', 'Bhutan', 'United States of America',\n",
              "       'Sweden', 'Nepal', 'Senegal', 'Dominican Republic', 'Ethiopia',\n",
              "       'Djibouti', 'The Bahamas', 'Algeria', 'Costa Rica', 'Maldives',\n",
              "       'Mauritania', 'Liberia', 'East Timor', 'Uzbekistan',\n",
              "       'South Africa', 'Ireland', 'India', 'Swaziland', 'Slovenia',\n",
              "       'North Korea', 'Tanzania', 'Papua New Guinea', 'Turkmenistan',\n",
              "       'Grenada', 'Greece', 'Kiribati', 'Iran', 'South Sudan', 'Guinea',\n",
              "       'Trinidad and Tobago', 'Vatican City', 'Norway', 'Kosovo',\n",
              "       'Kuwait', 'Tuvalu', 'Nicaragua', 'Croatia', 'Czech Republic',\n",
              "       'Sierra Leone', 'Andorra', 'Tonga', 'Finland', 'Cuba', 'Syria',\n",
              "       'El Salvador', 'Moldova ', 'Taiwan', 'Mozambique', 'Samoa ',\n",
              "       'Fiji', 'Democratic Republic of the Congo', 'Gabon', 'Hungary',\n",
              "       'Kenya', 'France', 'Marshall Islands', 'Bosnia and Herzegovina',\n",
              "       'Russia', 'Canada', 'Qatar', 'Sri Lanka', 'Spain', 'Latvia',\n",
              "       'Romania', 'Federated States of Micronesia', 'Barbados',\n",
              "       'Burkina Faso', 'Chad', 'The Gambia', 'Philippines', 'Armenia',\n",
              "       'Zimbabwe', 'Niger', 'Madagascar', 'Serbia', 'Equatorial Guinea',\n",
              "       'San Marino', 'Tajikistan', 'Oman', 'Poland', 'Nauru', 'Palau',\n",
              "       'Liechtenstein', 'Vanuatu', 'New Zealand', 'Guatemala', 'Nigeria',\n",
              "       'Seychelles ', 'Malaysia', 'Brunei', 'Jamaica', 'Austria',\n",
              "       'Honduras', 'Yemen'], dtype=object)"
            ]
          },
          "metadata": {
            "tags": []
          },
          "execution_count": 24
        }
      ]
    },
    {
      "cell_type": "code",
      "metadata": {
        "id": "Nmuw-8hzXr-8",
        "colab_type": "code",
        "outputId": "39051a4e-e112-4ccf-b544-2611fed9edd0",
        "colab": {
          "base_uri": "https://localhost:8080/",
          "height": 70
        }
      },
      "source": [
        "pd.unique(sales['Item Type'].values.ravel())"
      ],
      "execution_count": 0,
      "outputs": [
        {
          "output_type": "execute_result",
          "data": {
            "text/plain": [
              "array(['Snacks', 'Cosmetics', 'Fruits', 'Personal Care', 'Household',\n",
              "       'Clothes', 'Vegetables', 'Office Supplies', 'Beverages', 'Meat',\n",
              "       'Cereal', 'Baby Food'], dtype=object)"
            ]
          },
          "metadata": {
            "tags": []
          },
          "execution_count": 25
        }
      ]
    },
    {
      "cell_type": "code",
      "metadata": {
        "id": "_b0GwULlX2et",
        "colab_type": "code",
        "outputId": "b1a5f882-d0f8-4128-c14e-a1ee36eac4f9",
        "colab": {
          "base_uri": "https://localhost:8080/",
          "height": 34
        }
      },
      "source": [
        "pd.unique(sales['Sales Channel'].values.ravel())"
      ],
      "execution_count": 0,
      "outputs": [
        {
          "output_type": "execute_result",
          "data": {
            "text/plain": [
              "array(['Online', 'Offline'], dtype=object)"
            ]
          },
          "metadata": {
            "tags": []
          },
          "execution_count": 26
        }
      ]
    },
    {
      "cell_type": "code",
      "metadata": {
        "id": "gA2X25ylX6dD",
        "colab_type": "code",
        "outputId": "631fa78a-65f7-45e2-8de3-65a630f7d568",
        "colab": {
          "base_uri": "https://localhost:8080/",
          "height": 34
        }
      },
      "source": [
        "pd.unique(sales['Order Priority'].values.ravel())"
      ],
      "execution_count": 0,
      "outputs": [
        {
          "output_type": "execute_result",
          "data": {
            "text/plain": [
              "array(['C', 'L', 'M', 'H'], dtype=object)"
            ]
          },
          "metadata": {
            "tags": []
          },
          "execution_count": 27
        }
      ]
    },
    {
      "cell_type": "code",
      "metadata": {
        "id": "PwzRU47qZlnD",
        "colab_type": "code",
        "outputId": "65951cb8-242e-4dcb-9e0d-89263ce174e5",
        "colab": {
          "base_uri": "https://localhost:8080/",
          "height": 596
        }
      },
      "source": [
        "corrmat = sales.corr()\n",
        "top_corr_features = corrmat.index\n",
        "plt.figure(figsize = (10,10))\n",
        "g = sns.heatmap(sales[top_corr_features].corr(),annot = True, cmap = 'RdYlGn')"
      ],
      "execution_count": 0,
      "outputs": [
        {
          "output_type": "display_data",
          "data": {
            "image/png": "[encoded data removed]",
            "text/plain": [
              "<Figure size 720x720 with 2 Axes>"
            ]
          },
          "metadata": {
            "tags": []
          }
        }
      ]
    },
    {
      "cell_type": "code",
      "metadata": {
        "id": "DAWytxRadJoT",
        "colab_type": "code",
        "outputId": "1f7f64d3-c4d4-4e6e-9a10-f300af55ab03",
        "colab": {
          "base_uri": "https://localhost:8080/",
          "height": 281
        }
      },
      "source": [
        "sales.dtypes\n"
      ],
      "execution_count": 0,
      "outputs": [
        {
          "output_type": "execute_result",
          "data": {
            "text/plain": [
              "Region             object\n",
              "Country            object\n",
              "Item Type          object\n",
              "Sales Channel      object\n",
              "Order Priority     object\n",
              "Order Date         object\n",
              "Order ID            int64\n",
              "Ship Date          object\n",
              "Units Sold          int64\n",
              "Unit Price        float64\n",
              "Unit Cost         float64\n",
              "Total Revenue     float64\n",
              "Total Cost        float64\n",
              "Total Profit      float64\n",
              "dtype: object"
            ]
          },
          "metadata": {
            "tags": []
          },
          "execution_count": 47
        }
      ]
    },
    {
      "cell_type": "code",
      "metadata": {
        "id": "MvHgNYjQgZ6e",
        "colab_type": "code",
        "colab": {}
      },
      "source": [
        "from sklearn.model_selection import train_test_split\n",
        "X = sales.iloc[:,8:12].values\n",
        "y = sales.iloc[:,13].values\n",
        "X_train,X_test,y_train,y_test = train_test_split(X,y,test_size = 1/3,random_state = 0)"
      ],
      "execution_count": 0,
      "outputs": []
    },
    {
      "cell_type": "code",
      "metadata": {
        "id": "z9L6yZJThEvR",
        "colab_type": "code",
        "outputId": "a4b7d6ba-89d3-4a6c-a3d9-f1ca22145f71",
        "colab": {
          "base_uri": "https://localhost:8080/",
          "height": 34
        }
      },
      "source": [
        "from sklearn.linear_model import LinearRegression as lm\n",
        "model = lm().fit(X_train,y_train)\n",
        "predictions = model.predict(X_test)\n",
        "from sklearn.metrics import r2_score\n",
        "r2_score(y_test,predictions)"
      ],
      "execution_count": 0,
      "outputs": [
        {
          "output_type": "execute_result",
          "data": {
            "text/plain": [
              "0.9510596773789015"
            ]
          },
          "metadata": {
            "tags": []
          },
          "execution_count": 58
        }
      ]
    }
  ]
}